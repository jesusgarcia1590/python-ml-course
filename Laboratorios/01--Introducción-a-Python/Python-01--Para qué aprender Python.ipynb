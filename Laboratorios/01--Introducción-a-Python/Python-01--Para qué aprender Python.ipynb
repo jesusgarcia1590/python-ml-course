{
  "cells": [
    {
      "cell_type": "markdown",
      "metadata": {
        "id": "3rAZJZBljZt_"
      },
      "source": [
        "<img src=\"https://github.com/randall-romero/EC4301/blob/master/Laboratorios/01--Introducci%C3%B3n-a-Python/figures/escuela-de-economia.png?raw=1\" width=\"260\" height=\"60\">\n",
        "<center>\n",
        "    <b>EC4301 MACROECONOMETRÍA</b><br>\n",
        "    <b>Profesor:  Randall Romero Aguilar, PhD</b>\n",
        "<br><br>\n",
        "<b>Laboratorio:</b>\n",
        "<br>    \n",
        "<div style=\"font-size:250%;color:white; background-color: #0064b0;\">Introducción a Python</div>\n",
        "<div style=\"font-size:175%;color:white; background-color: #0064b0;\">Parte 1: ¿Para qué aprender Python?</div>    \n",
        "\n",
        "</center>\n",
        "<br><br>\n",
        "<p style=\"font-size:120%;\">En esta serie de cuadernos de Jupyter hacemos una pequeña introducción al lenguage de programación Python. Recomiendo estos recursos adicionales a quienes deseen profundizar en este tema: </p>\n",
        "\n",
        "\n",
        "* McGrath, Mike (2016). **[Python in Easy Steps](http://ineasysteps.com/products-page/all_books/python-easy-steps-2nd-edition/)**. In Easy Steps Limited.\n",
        "* Romero-Aguilar, Randall (2017). **[Python para economistas](http://www.secmca.org/wp-content/uploads/2019/02/articulo93NOV2017.pdf)**. Nota Económica Regionales No.93, diciembre. SECMCA.\n",
        "* El analista económico-financiero (blog) **[Los programas más usados por economistas](https://elanalistaeconomicofinanciero.blogspot.com/2016/08/los-programas-mas-usados-por-economistas.html)**. 4 de agosto 2016\n",
        "* Universidad de Alcalá (Master Finanzas, blog) **[Por qué un economista debería aprender a programar](https://www.masters-finanzas.com/economista-saber-programar/)**. 19 de abril 2018.\n",
        "* Sosa Escudero, Walter **[Peleados con los algoritmos: los economistas y su talón de Aquiles](https://www.lanacion.com.ar/2076973-peleados-con-los-algoritmos-los-economistas-y-su-talon-de-aquiles)**. (29 de octubre 2017)\n",
        "* El País **[La asignatura de programación se cuela en la licenciatura de Económicas](https://retina.elpais.com/retina/2017/09/22/tendencias/1506072886_100965.html)**. 25 de septiembre 2017\n",
        "\n",
        "\n",
        "\n",
        "<i>Creado:     2018-Jul-21\n",
        "    <br>\n",
        "    Actualizado: 2020-Ago-18</i>\n",
        "\n",
        "<hr>\n"
      ]
    },
    {
      "cell_type": "markdown",
      "metadata": {
        "id": "lV1hP9JQjZuB"
      },
      "source": [
        "# Acerca de Python\n",
        "\n",
        "Python es...\n",
        "* **libre** – es software distribuible de código abierto\n",
        "* **fácil de aprender** – tiene una sintaxis de lenguaje simple\n",
        "* **fácil de leer** – no está atiborrada de signos de puntuación\n",
        "* **fácil de manterner** – es modular para simplicidad\n",
        "* **“baterias incluidas”** – provee una librería estándar grande para que sea fácil integrar con sus propios programas\n",
        "* **interactivo** – tiene una terminal para arreglar y probar fragmentos de código\n",
        "* **portable** – corre en una amplia variedad de plataformas de hardware y tiene la misma interface en todas las plataformas\n",
        "* **interpretado** – no se requiere compilar el código\n",
        "* **alto nivel** – tiene administración de memoria automática\n",
        "* **extendible** – permite agregar módulos de bajo nivel al intérprete para personalización\n",
        "* **versátil** – soporta tnato programs orientados a procesos como programación orientada a objetos (OOP)\n",
        "* **flexible** – puede crear porgrams de consolas, aplicaciones con ventanas GUI (Graphical User Interface), y código CGI (Common Gateway Interface) para procesar datos de la web"
      ]
    },
    {
      "cell_type": "markdown",
      "metadata": {
        "id": "5sT-IH-zjZuB"
      },
      "source": [
        "## Python en las noticias\n",
        "\n",
        "### The Economist, julio de 2018\n",
        "\n",
        "> The language’s two main advantages are its simplicity and flexibility. Its straightforward syntax and use of indented spaces make it easy to learn, read and share. Its avid practitioners, known as Pythonistas, have uploaded 145,000 custom-built software packages to an online repository. These cover everything from game development to astronomy, and can be installed and inserted into a Python program in a matter of seconds. This versatility means that the Central Intelligence Agency has used it for hacking, Google for crawling webpages, Pixar for producing movies and Spotify for recommending songs. Some of the most popular packages harness “machine learning”, by crunching large quantities of data to pick out patterns that would otherwise be imperceptible.\n",
        "\n",
        "Source: https://www.economist.com/graphic-detail/2018/07/26/python-is-becoming-the-worlds-most-popular-coding-language"
      ]
    },
    {
      "cell_type": "markdown",
      "metadata": {
        "id": "EgW2V3WMjZuC"
      },
      "source": [
        "![economist](https://github.com/randall-romero/EC4301/blob/master/Laboratorios/01--Introducci%C3%B3n-a-Python/figures/economist-20180721.png?raw=1)\n",
        "\n",
        "\n",
        "> Python is not perfect. Other languages have more processing efficiency and specialised capabilities. C and C++ are “lower-level” options which give the user more control over what is happening within a computer’s processor. Java is popular for building large, complex applications. JavaScript is the language of choice for applications accessed via a web browser. Countless others have evolved for various purposes. But Python’s killer features—simple syntax that makes its code easy to learn and share, and its huge array of third-party packages—make it a good general-purpose language. **Its versatility is shown by its range of users and uses**.\n",
        "\n",
        "> **For professions that have long relied on trawling through spreadsheets, Python is especially valuable**. Citigroup, an American bank, has introduced a crash course in Python for its trainee analysts. A jobs website, eFinancialCareers, reports a near-fourfold increase in listings mentioning Python between the first quarters of 2015 and 2018.\n",
        "\n",
        "\n",
        "Fuente: https://www.economist.com/science-and-technology/2018/07/19/python-has-brought-computer-programming-to-a-vast-new-audience"
      ]
    },
    {
      "cell_type": "markdown",
      "metadata": {
        "id": "otNNcGKVjZuC"
      },
      "source": [
        "## El mercado lo demanda"
      ]
    },
    {
      "cell_type": "markdown",
      "metadata": {
        "id": "l5xGDVb7jZuC"
      },
      "source": [
        "![Top Data Science Technologies](https://github.com/randall-romero/EC4301/blob/master/Laboratorios/01--Introducci%C3%B3n-a-Python/figures/Artboard-2--1-.png?raw=1)\n",
        "\n",
        "Fuente: https://www.thinkful.com/blog/insights-on-the-data-science-job-market-analyzing-7k-data-science-job-descriptions/"
      ]
    },
    {
      "cell_type": "markdown",
      "metadata": {
        "id": "sHQHf5yDjZuC"
      },
      "source": [
        "<h1>Primeros pasos para correr programas con Python</h1>"
      ]
    },
    {
      "cell_type": "markdown",
      "metadata": {
        "id": "AtJn3vWOjZuC"
      },
      "source": [
        "## Descargando Python"
      ]
    },
    {
      "cell_type": "markdown",
      "metadata": {
        "id": "Ywx1HoZtjZuC"
      },
      "source": [
        "La manera más fácil de obtener Python es descargarlo de Anaconda en https://www.anaconda.com/download/\n",
        "\n",
        "![Anaconda](https://github.com/randall-romero/EC4301/blob/master/Laboratorios/01--Introducci%C3%B3n-a-Python/figures/anaconda-download.png?raw=1)"
      ]
    },
    {
      "cell_type": "markdown",
      "metadata": {
        "id": "k4ipkUrcjZuD"
      },
      "source": [
        "* Hay dos versiones mayores de Python: 2 vs 3\n",
        "* Asegúrese de descargar la versión 3."
      ]
    },
    {
      "cell_type": "markdown",
      "metadata": {
        "id": "MMfYBnyHjZuD"
      },
      "source": [
        "## Ejecutando Python\n",
        "Hay varias maneras de correr código de Python, dependiendo de lo que sea más conveniente en el momento. Muchas de las opciones pueden comenzarse desde <i>Anaconda Navigator</i>\n",
        "![anaconda-navigator.png](https://github.com/randall-romero/EC4301/blob/master/Laboratorios/01--Introducci%C3%B3n-a-Python/figures/anaconda-navigator.png?raw=1)\n",
        "\n",
        "\n",
        "\n",
        "\n",
        "entre ellas:"
      ]
    },
    {
      "cell_type": "markdown",
      "metadata": {
        "id": "kp93o6QUjZuD"
      },
      "source": [
        "### en una terminal (command window)\n",
        "![python-terminal.png](https://github.com/randall-romero/EC4301/blob/master/Laboratorios/01--Introducci%C3%B3n-a-Python/figures/python-terminal.png?raw=1)"
      ]
    },
    {
      "cell_type": "markdown",
      "metadata": {
        "id": "ArCIHx8CjZuD"
      },
      "source": [
        "### en Jupyter QtConsole\n",
        "Es una GUI de PyQt GUI que permite tener figuras incrustadas, edición de muchas líneas con resaltado de sintaxis, pistas de ayuda gráficas, y más.\n",
        "![python-qtconsole.png](https://github.com/randall-romero/EC4301/blob/master/Laboratorios/01--Introducci%C3%B3n-a-Python/figures/python-qtconsole.png?raw=1)\n",
        "\n",
        "\n",
        "### en Jupyter Notebook\n",
        "Es un ambiente de cuaderno computable interactivo basado en la web. Se edita y ejecutan documentos legibles para humanos mientras que se describe el análisis de los datos.\n",
        "![python-jupyter-notebook](https://github.com/randall-romero/EC4301/blob/master/Laboratorios/01--Introducci%C3%B3n-a-Python/figures/python-jupyter-notebook.png?raw=1)"
      ]
    },
    {
      "cell_type": "markdown",
      "metadata": {
        "id": "XDNCOiwijZuD"
      },
      "source": [
        "### en Spyder\n",
        "<b>S</b>cientific <b>PY</b>thon <b>D</b>evelopment <b>E</b>nvi<b>R</b>onment. Es una IDE poderosa, con edición avanzada, pruebas interactivas, correción y características de introspección.\n",
        "![python-spyder](https://github.com/randall-romero/EC4301/blob/master/Laboratorios/01--Introducci%C3%B3n-a-Python/figures/python-spyder.png?raw=1)"
      ]
    },
    {
      "cell_type": "markdown",
      "metadata": {
        "id": "aw133z9ZjZuD"
      },
      "source": [
        "### en nteract\n",
        "<b>nteract</b> es una excelente opción para trabajar con cuadernos de Jupyter, pues puede abrirlos sin necesidad de abrir Jupyter previamente. Es gratuito y puede descargarse del sitio [https://nteract.io/](https://nteract.io/).\n",
        "\n",
        "![python-nteract](https://github.com/randall-romero/EC4301/blob/master/Laboratorios/01--Introducci%C3%B3n-a-Python/figures/nteract.png?raw=1)"
      ]
    },
    {
      "cell_type": "markdown",
      "metadata": {
        "id": "DtQC0a-UjZuD"
      },
      "source": [
        "# Ejecutando Python en la nube"
      ]
    },
    {
      "cell_type": "markdown",
      "metadata": {
        "id": "kcYEu_zzjZuE"
      },
      "source": [
        "Una opción muy conveniente para correr programas de Python sin instalarlo en su máquina es [Google Colab](https://colab.research.google.com), el cual permite ejecutarlos en los servidores de Google. A la fecha utiliza la versión 3.6.9 de Python.\n",
        "\n",
        "![colab](https://github.com/randall-romero/EC4301/blob/master/Laboratorios/01--Introducci%C3%B3n-a-Python/figures/colab.png?raw=1)"
      ]
    },
    {
      "cell_type": "markdown",
      "metadata": {
        "id": "oMy_kW_4jZuE"
      },
      "source": [
        "Por ejemplo, para ejecutar los cuadernos de Jupyter de este curso, puede cargarlos directamente desde mi repositorio de Github. Para ello, seleccione el menú **File >> Open notebook >> Github**, escriba **randall-romero** en el campo de búsqueda, y selecciones el repositorio EC4301.\n",
        "\n",
        "\n",
        "\n",
        "![colab-github](https://github.com/randall-romero/EC4301/blob/master/Laboratorios/01--Introducci%C3%B3n-a-Python/figures/colab-github.png?raw=1)"
      ]
    },
    {
      "cell_type": "markdown",
      "metadata": {
        "id": "kfxezo5YjZuE"
      },
      "source": [
        "# ¡Listos para empezar!"
      ]
    },
    {
      "cell_type": "markdown",
      "metadata": {
        "id": "wxlGoSJfjZuE"
      },
      "source": [
        "## Un primer comando"
      ]
    },
    {
      "cell_type": "code",
      "execution_count": 1,
      "metadata": {
        "id": "PfC8EwKYjZuE",
        "outputId": "c7433599-c168-4b7c-b590-f46be5f3cbe9",
        "colab": {
          "base_uri": "https://localhost:8080/"
        }
      },
      "outputs": [
        {
          "output_type": "stream",
          "name": "stdout",
          "text": [
            "Bienvenidos a este tutorial de Python\n"
          ]
        }
      ],
      "source": [
        "print(\"Bienvenidos a este tutorial de Python\")"
      ]
    },
    {
      "cell_type": "markdown",
      "metadata": {
        "id": "im9Zyk-OjZuF"
      },
      "source": [
        "<div style=\"font-size:175%;text-align: right; background-color: #cce7e8;\">\n",
        "    <a href=\"./Python-02--Variables%20y%20operaciones%20básicas.ipynb\">siguiente cuaderno >></a>\n",
        "</div>  \n"
      ]
    }
  ],
  "metadata": {
    "kernel_info": {
      "name": "python3"
    },
    "kernelspec": {
      "display_name": "Python [conda env:root] *",
      "language": "python",
      "name": "conda-root-py"
    },
    "language_info": {
      "codemirror_mode": {
        "name": "ipython",
        "version": 3
      },
      "file_extension": ".py",
      "mimetype": "text/x-python",
      "name": "python",
      "nbconvert_exporter": "python",
      "pygments_lexer": "ipython3",
      "version": "3.8.5"
    },
    "nteract": {
      "version": "0.14.3"
    },
    "toc-autonumbering": false,
    "toc-showtags": false,
    "colab": {
      "provenance": []
    }
  },
  "nbformat": 4,
  "nbformat_minor": 0
}